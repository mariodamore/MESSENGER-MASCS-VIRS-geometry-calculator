{
 "cells": [
  {
   "cell_type": "markdown",
   "id": "fceef12e-9386-475d-8dea-97de26d0a674",
   "metadata": {
    "tags": []
   },
   "source": [
    "## Import "
   ]
  },
  {
   "cell_type": "code",
   "execution_count": 1,
   "id": "df19e004-66d8-433b-98a2-c8d9ab0bc5c0",
   "metadata": {
    "execution": {
     "iopub.execute_input": "2023-03-29T12:47:59.619604Z",
     "iopub.status.busy": "2023-03-29T12:47:59.619423Z",
     "iopub.status.idle": "2023-03-29T12:48:00.256986Z",
     "shell.execute_reply": "2023-03-29T12:48:00.256114Z",
     "shell.execute_reply.started": "2023-03-29T12:47:59.619590Z"
    },
    "tags": []
   },
   "outputs": [],
   "source": [
    "import matplotlib.pyplot as plt\n",
    "import pathlib\n",
    "import rich\n",
    "import numpy as np\n",
    "import pandas as pd\n",
    "\n",
    "opts = {\n",
    "    'display.max_columns': None,\n",
    "    'display.max_colwidth': 50,\n",
    "    'display.expand_frame_repr': False,  # Don't wrap to multiple pages\n",
    "    'display.max_rows': 999, # maximum number of rows pandas should output \n",
    "    'display.max_seq_items': 50,         # Max length of printed sequence\n",
    "    'display.precision': 4, # Floating point output precision\n",
    "    'display.show_dimensions': True,\n",
    "    'display.width':200, # Width of the display in characters. in a terminal this can be set to None, not in notebook or qtconsole.\n",
    "    }\n",
    "\n",
    "# set pandas options\n",
    "[pd.set_option(n,o) for n,o in opts.items()]\n",
    "\n",
    "# useful for displaying html, images and so on\n",
    "from IPython.display import display\n",
    "\n",
    "import geopandas as gpd"
   ]
  },
  {
   "cell_type": "markdown",
   "id": "0d8632cf-9d28-4489-8d81-3ca79017f116",
   "metadata": {},
   "source": [
    "## MASCS Data"
   ]
  },
  {
   "cell_type": "markdown",
   "id": "9b94e054-2bba-4348-adb5-35ce6a03bfb7",
   "metadata": {},
   "source": [
    "### direct osgeo/gdal read"
   ]
  },
  {
   "cell_type": "code",
   "execution_count": 2,
   "id": "45a3ca5f-db4a-40c9-85cd-931f2c8aaa1a",
   "metadata": {
    "execution": {
     "iopub.execute_input": "2023-03-29T12:48:00.258436Z",
     "iopub.status.busy": "2023-03-29T12:48:00.258157Z",
     "iopub.status.idle": "2023-03-29T12:48:00.288931Z",
     "shell.execute_reply": "2023-03-29T12:48:00.288389Z",
     "shell.execute_reply.started": "2023-03-29T12:48:00.258419Z"
    },
    "tags": []
   },
   "outputs": [],
   "source": [
    "from osgeo import ogr\n",
    "import geopandas as gpd\n",
    "import pandas as pd\n",
    "import shapely\n",
    "# useful for displaying html, images and so on\n",
    "from IPython.display import display"
   ]
  },
  {
   "cell_type": "code",
   "execution_count": 3,
   "id": "6e14ab99-84d4-4007-a2bf-7b9742581379",
   "metadata": {
    "execution": {
     "iopub.execute_input": "2023-03-29T12:48:00.289848Z",
     "iopub.status.busy": "2023-03-29T12:48:00.289589Z",
     "iopub.status.idle": "2023-03-29T12:48:00.292506Z",
     "shell.execute_reply": "2023-03-29T12:48:00.292068Z",
     "shell.execute_reply.started": "2023-03-29T12:48:00.289822Z"
    },
    "tags": []
   },
   "outputs": [],
   "source": [
    "file = \"../data/raw/test/mess-e_v_h-mascs-3-virs-cdr-caldata-v1/messmas_2101/data/ddr/orb/virs/mascs20110812/vis/virsvd_orb_11224_214005.lbl\""
   ]
  },
  {
   "cell_type": "code",
   "execution_count": 4,
   "id": "c04dfcb1-96d9-4b92-92e7-58d704672082",
   "metadata": {
    "execution": {
     "iopub.execute_input": "2023-03-29T12:48:00.293437Z",
     "iopub.status.busy": "2023-03-29T12:48:00.293241Z",
     "iopub.status.idle": "2023-03-29T12:48:00.353057Z",
     "shell.execute_reply": "2023-03-29T12:48:00.352659Z",
     "shell.execute_reply.started": "2023-03-29T12:48:00.293422Z"
    },
    "tags": []
   },
   "outputs": [],
   "source": [
    "df = gpd.read_file(file,engine='fiona').drop(columns=['SPARE_1', 'SPARE_2', 'SPARE_3','SPARE_4', 'SPARE_5',]) # default engine, no warnings"
   ]
  },
  {
   "cell_type": "code",
   "execution_count": 5,
   "id": "4313b310-ec48-4ccd-b434-1052f98037e9",
   "metadata": {
    "execution": {
     "iopub.execute_input": "2023-03-29T12:48:00.353606Z",
     "iopub.status.busy": "2023-03-29T12:48:00.353469Z",
     "iopub.status.idle": "2023-03-29T12:48:00.360922Z",
     "shell.execute_reply": "2023-03-29T12:48:00.360305Z",
     "shell.execute_reply.started": "2023-03-29T12:48:00.353592Z"
    },
    "tags": []
   },
   "outputs": [],
   "source": [
    "# convert SPECTRUM_UTC_TIME to python datetime object \n",
    "from datetime import datetime\n",
    "df['SPECTRUM_UTC_TIME'] = pd.to_datetime(df['SPECTRUM_UTC_TIME'].map(lambda x : datetime.strptime(x.strip(), '%y%jT%H:%M:%S')))"
   ]
  },
  {
   "cell_type": "code",
   "execution_count": 6,
   "id": "5ee60f6d-f842-46e1-9caa-d0d1455b6cc5",
   "metadata": {
    "execution": {
     "iopub.execute_input": "2023-03-29T12:48:00.361763Z",
     "iopub.status.busy": "2023-03-29T12:48:00.361546Z",
     "iopub.status.idle": "2023-03-29T12:48:00.374354Z",
     "shell.execute_reply": "2023-03-29T12:48:00.373722Z",
     "shell.execute_reply.started": "2023-03-29T12:48:00.361748Z"
    },
    "tags": []
   },
   "outputs": [
    {
     "data": {
      "text/html": [
       "<div>\n",
       "<style scoped>\n",
       "    .dataframe tbody tr th:only-of-type {\n",
       "        vertical-align: middle;\n",
       "    }\n",
       "\n",
       "    .dataframe tbody tr th {\n",
       "        vertical-align: top;\n",
       "    }\n",
       "\n",
       "    .dataframe thead th {\n",
       "        text-align: right;\n",
       "    }\n",
       "</style>\n",
       "<table border=\"1\" class=\"dataframe\">\n",
       "  <thead>\n",
       "    <tr style=\"text-align: right;\">\n",
       "      <th></th>\n",
       "      <th>0</th>\n",
       "      <th>420</th>\n",
       "    </tr>\n",
       "  </thead>\n",
       "  <tbody>\n",
       "    <tr>\n",
       "      <th>SC_TIME</th>\n",
       "      <td>221672673.0</td>\n",
       "      <td>221673198.0</td>\n",
       "    </tr>\n",
       "    <tr>\n",
       "      <th>PACKET_SUBSECONDS</th>\n",
       "      <td>47</td>\n",
       "      <td>50</td>\n",
       "    </tr>\n",
       "    <tr>\n",
       "      <th>INT_TIME</th>\n",
       "      <td>20</td>\n",
       "      <td>20</td>\n",
       "    </tr>\n",
       "    <tr>\n",
       "      <th>INT_COUNT</th>\n",
       "      <td>421</td>\n",
       "      <td>421</td>\n",
       "    </tr>\n",
       "    <tr>\n",
       "      <th>DARK_FREQ</th>\n",
       "      <td>40</td>\n",
       "      <td>40</td>\n",
       "    </tr>\n",
       "    <tr>\n",
       "      <th>TEMP_2</th>\n",
       "      <td>26.901</td>\n",
       "      <td>29.541</td>\n",
       "    </tr>\n",
       "    <tr>\n",
       "      <th>BINNING</th>\n",
       "      <td>1</td>\n",
       "      <td>1</td>\n",
       "    </tr>\n",
       "    <tr>\n",
       "      <th>START_PIXEL</th>\n",
       "      <td>0</td>\n",
       "      <td>0</td>\n",
       "    </tr>\n",
       "    <tr>\n",
       "      <th>END_PIXEL</th>\n",
       "      <td>361</td>\n",
       "      <td>361</td>\n",
       "    </tr>\n",
       "    <tr>\n",
       "      <th>SPECTRUM_NUMBER</th>\n",
       "      <td>0</td>\n",
       "      <td>420</td>\n",
       "    </tr>\n",
       "    <tr>\n",
       "      <th>SPECTRUM_MET</th>\n",
       "      <td>221672673.0</td>\n",
       "      <td>221673198.0</td>\n",
       "    </tr>\n",
       "    <tr>\n",
       "      <th>SPECTRUM_SUBSECONDS</th>\n",
       "      <td>235</td>\n",
       "      <td>250</td>\n",
       "    </tr>\n",
       "    <tr>\n",
       "      <th>SPECTRUM_UTC_TIME</th>\n",
       "      <td>2011-08-12 21:40:06</td>\n",
       "      <td>2011-08-12 21:48:51</td>\n",
       "    </tr>\n",
       "    <tr>\n",
       "      <th>SOFTWARE_VERSION</th>\n",
       "      <td>1.0</td>\n",
       "      <td>1.0</td>\n",
       "    </tr>\n",
       "    <tr>\n",
       "      <th>DATA_QUALITY_INDEX</th>\n",
       "      <td>0222-9110-0001-2000</td>\n",
       "      <td>0222-9110-0001-2000</td>\n",
       "    </tr>\n",
       "    <tr>\n",
       "      <th>ALONG_TRACK_FOOTPRINT_SIZE</th>\n",
       "      <td>9894.0337</td>\n",
       "      <td>16759.2899</td>\n",
       "    </tr>\n",
       "    <tr>\n",
       "      <th>ACROSS_TRACK_FOOTPRINT_SIZE</th>\n",
       "      <td>1301.8368</td>\n",
       "      <td>1647.2299</td>\n",
       "    </tr>\n",
       "    <tr>\n",
       "      <th>INCIDENCE_ANGLE</th>\n",
       "      <td>30.62</td>\n",
       "      <td>31.5181</td>\n",
       "    </tr>\n",
       "    <tr>\n",
       "      <th>EMISSION_ANGLE</th>\n",
       "      <td>48.0743</td>\n",
       "      <td>50.3782</td>\n",
       "    </tr>\n",
       "    <tr>\n",
       "      <th>PHASE_ANGLE</th>\n",
       "      <td>78.6333</td>\n",
       "      <td>81.4388</td>\n",
       "    </tr>\n",
       "    <tr>\n",
       "      <th>SOLAR_DISTANCE</th>\n",
       "      <td>63559553.5251</td>\n",
       "      <td>63555428.3318</td>\n",
       "    </tr>\n",
       "    <tr>\n",
       "      <th>geometry</th>\n",
       "      <td>None</td>\n",
       "      <td>None</td>\n",
       "    </tr>\n",
       "  </tbody>\n",
       "</table>\n",
       "<p>22 rows × 2 columns</p>\n",
       "</div>"
      ],
      "text/plain": [
       "                                             0                    420\n",
       "SC_TIME                              221672673.0          221673198.0\n",
       "PACKET_SUBSECONDS                             47                   50\n",
       "INT_TIME                                      20                   20\n",
       "INT_COUNT                                    421                  421\n",
       "DARK_FREQ                                     40                   40\n",
       "TEMP_2                                    26.901               29.541\n",
       "BINNING                                        1                    1\n",
       "START_PIXEL                                    0                    0\n",
       "END_PIXEL                                    361                  361\n",
       "SPECTRUM_NUMBER                                0                  420\n",
       "SPECTRUM_MET                         221672673.0          221673198.0\n",
       "SPECTRUM_SUBSECONDS                          235                  250\n",
       "SPECTRUM_UTC_TIME            2011-08-12 21:40:06  2011-08-12 21:48:51\n",
       "SOFTWARE_VERSION                             1.0                  1.0\n",
       "DATA_QUALITY_INDEX           0222-9110-0001-2000  0222-9110-0001-2000\n",
       "ALONG_TRACK_FOOTPRINT_SIZE             9894.0337           16759.2899\n",
       "ACROSS_TRACK_FOOTPRINT_SIZE            1301.8368            1647.2299\n",
       "INCIDENCE_ANGLE                            30.62              31.5181\n",
       "EMISSION_ANGLE                           48.0743              50.3782\n",
       "PHASE_ANGLE                              78.6333              81.4388\n",
       "SOLAR_DISTANCE                     63559553.5251        63555428.3318\n",
       "geometry                                    None                 None\n",
       "\n",
       "[22 rows x 2 columns]"
      ]
     },
     "execution_count": 6,
     "metadata": {},
     "output_type": "execute_result"
    }
   ],
   "source": [
    "df.iloc[[0,-1]].T"
   ]
  },
  {
   "cell_type": "code",
   "execution_count": 7,
   "id": "c8504bc1-2ff5-4ff7-9f5e-b0e1c11db9c4",
   "metadata": {
    "execution": {
     "iopub.execute_input": "2023-03-29T12:48:00.376581Z",
     "iopub.status.busy": "2023-03-29T12:48:00.376253Z",
     "iopub.status.idle": "2023-03-29T12:48:00.382804Z",
     "shell.execute_reply": "2023-03-29T12:48:00.381966Z",
     "shell.execute_reply.started": "2023-03-29T12:48:00.376556Z"
    },
    "tags": []
   },
   "outputs": [],
   "source": [
    "# drop the index in a column\n",
    "df.index.name = 'pid' # primary ID\n",
    "df = df.reset_index(drop=0)"
   ]
  },
  {
   "cell_type": "code",
   "execution_count": 8,
   "id": "7a6a13f9-2607-406c-9d2d-8541bde4d0e3",
   "metadata": {
    "execution": {
     "iopub.execute_input": "2023-03-29T12:48:00.383771Z",
     "iopub.status.busy": "2023-03-29T12:48:00.383588Z",
     "iopub.status.idle": "2023-03-29T12:48:00.386917Z",
     "shell.execute_reply": "2023-03-29T12:48:00.386116Z",
     "shell.execute_reply.started": "2023-03-29T12:48:00.383756Z"
    },
    "tags": []
   },
   "outputs": [],
   "source": [
    "inDataSource = ogr.Open(file)\n",
    "table = inDataSource.GetLayer()"
   ]
  },
  {
   "cell_type": "code",
   "execution_count": 9,
   "id": "124cbe75-2b67-4f21-8fd8-2b618ac999bb",
   "metadata": {
    "execution": {
     "iopub.execute_input": "2023-03-29T12:48:00.387814Z",
     "iopub.status.busy": "2023-03-29T12:48:00.387595Z",
     "iopub.status.idle": "2023-03-29T12:48:00.413624Z",
     "shell.execute_reply": "2023-03-29T12:48:00.413082Z",
     "shell.execute_reply.started": "2023-03-29T12:48:00.387798Z"
    },
    "tags": []
   },
   "outputs": [
    {
     "name": "stdout",
     "output_type": "stream",
     "text": [
      "TARGET_LATITUDE_SET.shape=(421, 5)\n",
      "TARGET_LONGITUDE_SET.shape=(421, 5)\n",
      "stacked_latlon.shape=(2, 421, 5)\n"
     ]
    }
   ],
   "source": [
    "TARGET_LONGITUDE_SET = np.array([t.GetField('TARGET_LONGITUDE_SET') for t in table])\n",
    "TARGET_LATITUDE_SET  = np.array([t.GetField('TARGET_LATITUDE_SET') for t in table])\n",
    "stacked_latlon = np.stack((TARGET_LONGITUDE_SET,TARGET_LATITUDE_SET))\n",
    "print(f'{TARGET_LATITUDE_SET.shape=}')\n",
    "print(f'{TARGET_LONGITUDE_SET.shape=}')\n",
    "print(f'{stacked_latlon.shape=}')"
   ]
  },
  {
   "cell_type": "code",
   "execution_count": 10,
   "id": "c36a57b7-952c-4a51-9888-9b709880a90d",
   "metadata": {
    "execution": {
     "iopub.execute_input": "2023-03-29T12:48:00.414331Z",
     "iopub.status.busy": "2023-03-29T12:48:00.414176Z",
     "iopub.status.idle": "2023-03-29T12:48:00.422447Z",
     "shell.execute_reply": "2023-03-29T12:48:00.422021Z",
     "shell.execute_reply.started": "2023-03-29T12:48:00.414319Z"
    },
    "tags": []
   },
   "outputs": [],
   "source": [
    "# this select only the polygons c1,c3,c2,c4 in this order, see Fig.4 in VIRS_CDRSIS.PDF\n",
    "corners_index = [1,3,2,4]\n",
    "coordinates = np.moveaxis(stacked_latlon[:,:,corners_index].T,1,0)\n",
    "polygon_list = [shapely.geometry.Polygon(p)  for p in  coordinates]"
   ]
  },
  {
   "cell_type": "code",
   "execution_count": 11,
   "id": "aeb90ab0-d447-4115-b03c-8a5953047d68",
   "metadata": {
    "execution": {
     "iopub.execute_input": "2023-03-29T12:48:00.423201Z",
     "iopub.status.busy": "2023-03-29T12:48:00.423032Z",
     "iopub.status.idle": "2023-03-29T12:48:00.429267Z",
     "shell.execute_reply": "2023-03-29T12:48:00.428672Z",
     "shell.execute_reply.started": "2023-03-29T12:48:00.423188Z"
    },
    "tags": []
   },
   "outputs": [],
   "source": [
    "corners_index = 0\n",
    "points_list = [shapely.geometry.Point(p)  for p in  stacked_latlon[:,:,corners_index].T]"
   ]
  },
  {
   "cell_type": "markdown",
   "id": "e90b6614-8c7f-41ff-9737-d9cfe82922dc",
   "metadata": {},
   "source": [
    "## SPICE kernels use\n"
   ]
  },
  {
   "cell_type": "code",
   "execution_count": 12,
   "id": "face5c09-1d0a-4050-b4e9-65253b004d90",
   "metadata": {
    "execution": {
     "iopub.execute_input": "2023-03-29T12:48:00.430148Z",
     "iopub.status.busy": "2023-03-29T12:48:00.429930Z",
     "iopub.status.idle": "2023-03-29T12:48:00.457667Z",
     "shell.execute_reply": "2023-03-29T12:48:00.457102Z",
     "shell.execute_reply.started": "2023-03-29T12:48:00.430129Z"
    },
    "tags": []
   },
   "outputs": [],
   "source": [
    "import spiceypy"
   ]
  },
  {
   "cell_type": "code",
   "execution_count": 13,
   "id": "367f8816-8d30-4178-8d09-ded26a88f68d",
   "metadata": {
    "execution": {
     "iopub.execute_input": "2023-03-29T12:48:00.458419Z",
     "iopub.status.busy": "2023-03-29T12:48:00.458258Z",
     "iopub.status.idle": "2023-03-29T12:48:00.461833Z",
     "shell.execute_reply": "2023-03-29T12:48:00.461330Z",
     "shell.execute_reply.started": "2023-03-29T12:48:00.458406Z"
    },
    "lines_to_next_cell": 2,
    "tags": []
   },
   "outputs": [
    {
     "name": "stdout",
     "output_type": "stream",
     "text": [
      "kernels_basepath=PosixPath('/home/kidpixo/Documents/work/ISSI_Galliano/code/MESSENGER-MASCS-VIRS-geometry-calculator/notebooks/../data/raw/spice_kernels/NASA/messsp_1000/data')\n",
      "kernels_basepath.exists()=True\n"
     ]
    }
   ],
   "source": [
    "kernels_basepath = pathlib.Path().resolve() / '../data/raw/spice_kernels/NASA/messsp_1000/data'\n",
    "# kernels_basepath = pathlib.Path('/home/kidpixo/Documents/work/MESSENGER/MASCS_mda_dlr_processed/spice_kernels_messenger/data')\n",
    "\n",
    "print(f'{kernels_basepath=}')\n",
    "print(f'{kernels_basepath.exists()=}')"
   ]
  },
  {
   "cell_type": "code",
   "execution_count": 14,
   "id": "d345833e-a81c-468d-9103-2fc321f3e6f7",
   "metadata": {
    "execution": {
     "iopub.execute_input": "2023-03-29T12:48:00.462728Z",
     "iopub.status.busy": "2023-03-29T12:48:00.462531Z",
     "iopub.status.idle": "2023-03-29T12:48:00.466085Z",
     "shell.execute_reply": "2023-03-29T12:48:00.465547Z",
     "shell.execute_reply.started": "2023-03-29T12:48:00.462714Z"
    },
    "tags": []
   },
   "outputs": [],
   "source": [
    "# symlink SPICE path to /tmp/spice_kernels_messenger > SPICE Paths are limited to 255 chars!!!! \n",
    "original_spice_dir = pathlib.Path(kernels_basepath)\n",
    "\n",
    "spice_dir = pathlib.Path('/tmp/spice_kernels_messenger')\n",
    "\n",
    "if not spice_dir.exists():\n",
    "    spice_dir.symlink_to(original_spice_dir)"
   ]
  },
  {
   "cell_type": "code",
   "execution_count": 15,
   "id": "4e5beda9-cc61-430b-9208-ba8d5b750039",
   "metadata": {
    "execution": {
     "iopub.execute_input": "2023-03-29T12:48:00.467225Z",
     "iopub.status.busy": "2023-03-29T12:48:00.466942Z",
     "iopub.status.idle": "2023-03-29T12:48:00.470206Z",
     "shell.execute_reply": "2023-03-29T12:48:00.469699Z",
     "shell.execute_reply.started": "2023-03-29T12:48:00.467205Z"
    },
    "tags": []
   },
   "outputs": [],
   "source": [
    "# symlink SPICE path to /tmp/spice_kernels_messenger > SPICE Paths are limited to 255 chars!!!! \n",
    "esa_dsk_path = pathlib.Path('').resolve() / '../data/raw/spice_kernels/ESA/kernels/dsk'\n",
    "\n",
    "new_dsk_path = original_spice_dir / 'dsk' \n",
    "\n",
    "if not new_dsk_path.exists():\n",
    "    new_dsk_path.symlink_to(esa_dsk_path)"
   ]
  },
  {
   "cell_type": "code",
   "execution_count": 16,
   "id": "e88aa35f-ca8e-4596-a7f1-7404ab470309",
   "metadata": {
    "execution": {
     "iopub.execute_input": "2023-03-29T12:48:00.471004Z",
     "iopub.status.busy": "2023-03-29T12:48:00.470838Z",
     "iopub.status.idle": "2023-03-29T12:48:00.478442Z",
     "shell.execute_reply": "2023-03-29T12:48:00.477896Z",
     "shell.execute_reply.started": "2023-03-29T12:48:00.470990Z"
    },
    "tags": []
   },
   "outputs": [],
   "source": [
    "spiceypy.kclear()# Clear the Spice kernels pool"
   ]
  },
  {
   "cell_type": "code",
   "execution_count": 17,
   "id": "9c20a967-3e4c-487c-89d5-9a9b11d7b91c",
   "metadata": {
    "execution": {
     "iopub.execute_input": "2023-03-29T12:48:00.479118Z",
     "iopub.status.busy": "2023-03-29T12:48:00.478984Z",
     "iopub.status.idle": "2023-03-29T12:48:00.483440Z",
     "shell.execute_reply": "2023-03-29T12:48:00.482960Z",
     "shell.execute_reply.started": "2023-03-29T12:48:00.479105Z"
    },
    "tags": []
   },
   "outputs": [
    {
     "data": {
      "text/plain": [
       "{'2011': PosixPath('/home/kidpixo/Documents/work/ISSI_Galliano/code/MESSENGER-MASCS-VIRS-geometry-calculator/notebooks/../data/raw/spice_kernels/NASA/messsp_1000/data/../../msgr_2011_v10_110812_110812.tm')}"
      ]
     },
     "execution_count": 17,
     "metadata": {},
     "output_type": "execute_result"
    }
   ],
   "source": [
    "metakernels_paths = list(pathlib.Path(kernels_basepath / '../..').glob('*tm'))\n",
    "# metakernels_paths = list(pathlib.Path(kernels_basepath / '../extras/mk_mod').glob('*tm'))\n",
    "metakernels_paths_dict = {p.stem.split('_')[1]:p for p in metakernels_paths}\n",
    "metakernels_paths_dict"
   ]
  },
  {
   "cell_type": "code",
   "execution_count": 18,
   "id": "9a043fca-eff2-4abd-87ef-61c05a6368d3",
   "metadata": {
    "execution": {
     "iopub.execute_input": "2023-03-29T12:48:00.484141Z",
     "iopub.status.busy": "2023-03-29T12:48:00.483993Z",
     "iopub.status.idle": "2023-03-29T12:48:00.487857Z",
     "shell.execute_reply": "2023-03-29T12:48:00.487388Z",
     "shell.execute_reply.started": "2023-03-29T12:48:00.484128Z"
    },
    "tags": []
   },
   "outputs": [
    {
     "name": "stdout",
     "output_type": "stream",
     "text": [
      "Data year of aquisition : 2011\n"
     ]
    }
   ],
   "source": [
    "print(f'Data year of aquisition : {df[\"SPECTRUM_UTC_TIME\"].dt.year.unique()[0]}')"
   ]
  },
  {
   "cell_type": "code",
   "execution_count": 19,
   "id": "b9f375de-5245-469a-8484-438621022efb",
   "metadata": {
    "execution": {
     "iopub.execute_input": "2023-03-29T12:48:00.488690Z",
     "iopub.status.busy": "2023-03-29T12:48:00.488471Z",
     "iopub.status.idle": "2023-03-29T12:48:00.579287Z",
     "shell.execute_reply": "2023-03-29T12:48:00.578559Z",
     "shell.execute_reply.started": "2023-03-29T12:48:00.488675Z"
    },
    "tags": []
   },
   "outputs": [],
   "source": [
    "# # subset metakernel\n",
    "# spiceypy.furnsh(str(kernels_basepath / 'msgr_2011_v10_110812_110812.tm'))  # load the kernel in the pool\n",
    "\n",
    "# mission metakernel\n",
    "spiceypy.furnsh(str(metakernels_paths_dict['2011']))  # load the kernels"
   ]
  },
  {
   "cell_type": "code",
   "execution_count": 20,
   "id": "17988ca6-8fb2-45a1-8ee6-7b610a2a81d0",
   "metadata": {
    "execution": {
     "iopub.execute_input": "2023-03-29T12:48:00.580069Z",
     "iopub.status.busy": "2023-03-29T12:48:00.579921Z",
     "iopub.status.idle": "2023-03-29T12:48:00.608366Z",
     "shell.execute_reply": "2023-03-29T12:48:00.607863Z",
     "shell.execute_reply.started": "2023-03-29T12:48:00.580057Z"
    },
    "tags": []
   },
   "outputs": [
    {
     "data": {
      "text/html": [
       "<pre style=\"white-space:pre;overflow-x:auto;line-height:normal;font-family:Menlo,'DejaVu Sans Mono',consolas,'Courier New',monospace\"><span style=\"font-weight: bold\">{</span>\n",
       "    <span style=\"color: #008000; text-decoration-color: #008000\">'sensor'</span>: <span style=\"color: #008000; text-decoration-color: #008000\">'MSGR_MASCS_VIRS'</span>,\n",
       "    <span style=\"color: #008000; text-decoration-color: #008000\">'sensor_id'</span>: <span style=\"color: #008080; text-decoration-color: #008080; font-weight: bold\">-236620</span>,\n",
       "    <span style=\"color: #008000; text-decoration-color: #008000\">'target'</span>: <span style=\"color: #008000; text-decoration-color: #008000\">'MERCURY'</span>,\n",
       "    <span style=\"color: #008000; text-decoration-color: #008000\">'tarid'</span>: <span style=\"color: #008080; text-decoration-color: #008080; font-weight: bold\">199</span>,\n",
       "    <span style=\"color: #008000; text-decoration-color: #008000\">'n'</span>: <span style=\"color: #008080; text-decoration-color: #008080; font-weight: bold\">3</span>,\n",
       "    <span style=\"color: #008000; text-decoration-color: #008000\">'radii'</span>: <span style=\"color: #800080; text-decoration-color: #800080; font-weight: bold\">array</span><span style=\"font-weight: bold\">([</span><span style=\"color: #008080; text-decoration-color: #008080; font-weight: bold\">2439.4</span>, <span style=\"color: #008080; text-decoration-color: #008080; font-weight: bold\">2439.4</span>, <span style=\"color: #008080; text-decoration-color: #008080; font-weight: bold\">2439.4</span><span style=\"font-weight: bold\">])</span>,\n",
       "    <span style=\"color: #008000; text-decoration-color: #008000\">'radius equ.'</span>: <span style=\"color: #008080; text-decoration-color: #008080; font-weight: bold\">2439.4</span>,\n",
       "    <span style=\"color: #008000; text-decoration-color: #008000\">'radius pol.'</span>: <span style=\"color: #008080; text-decoration-color: #008080; font-weight: bold\">2439.4</span>,\n",
       "    <span style=\"color: #008000; text-decoration-color: #008000\">'radii_relative_difference'</span>: <span style=\"color: #008080; text-decoration-color: #008080; font-weight: bold\">0.0</span>\n",
       "<span style=\"font-weight: bold\">}</span>\n",
       "</pre>\n"
      ],
      "text/plain": [
       "\u001b[1m{\u001b[0m\n",
       "    \u001b[32m'sensor'\u001b[0m: \u001b[32m'MSGR_MASCS_VIRS'\u001b[0m,\n",
       "    \u001b[32m'sensor_id'\u001b[0m: \u001b[1;36m-236620\u001b[0m,\n",
       "    \u001b[32m'target'\u001b[0m: \u001b[32m'MERCURY'\u001b[0m,\n",
       "    \u001b[32m'tarid'\u001b[0m: \u001b[1;36m199\u001b[0m,\n",
       "    \u001b[32m'n'\u001b[0m: \u001b[1;36m3\u001b[0m,\n",
       "    \u001b[32m'radii'\u001b[0m: \u001b[1;35marray\u001b[0m\u001b[1m(\u001b[0m\u001b[1m[\u001b[0m\u001b[1;36m2439.4\u001b[0m, \u001b[1;36m2439.4\u001b[0m, \u001b[1;36m2439.4\u001b[0m\u001b[1m]\u001b[0m\u001b[1m)\u001b[0m,\n",
       "    \u001b[32m'radius equ.'\u001b[0m: \u001b[1;36m2439.4\u001b[0m,\n",
       "    \u001b[32m'radius pol.'\u001b[0m: \u001b[1;36m2439.4\u001b[0m,\n",
       "    \u001b[32m'radii_relative_difference'\u001b[0m: \u001b[1;36m0.0\u001b[0m\n",
       "\u001b[1m}\u001b[0m\n"
      ]
     },
     "metadata": {},
     "output_type": "display_data"
    }
   ],
   "source": [
    "sensor = 'MSGR_MASCS_VIRS'\n",
    "sensor_id = spiceypy.bodn2c(sensor)\n",
    "target = 'MERCURY'\n",
    "tarid = spiceypy.bodn2c(target)\n",
    "\n",
    "n, radii = spiceypy.bodvrd(target, 'RADII', 3)\n",
    "re = radii[0]\n",
    "rp = radii[2]\n",
    "radii_relative_difference = (re - rp) / re # radii relative difference\n",
    "\n",
    "rich.print({\n",
    "    'sensor':sensor,\n",
    "    'sensor_id':sensor_id,\n",
    "    'target':target,\n",
    "    'tarid':tarid,\n",
    "    'n':n,\n",
    "    'radii': radii,\n",
    "    'radius equ.' : re,\n",
    "    'radius pol.' : rp,\n",
    "    'radii_relative_difference': radii_relative_difference\n",
    "})"
   ]
  },
  {
   "cell_type": "markdown",
   "id": "f09edc3d-1bbd-43d3-a314-358b632ec2dc",
   "metadata": {},
   "source": [
    "If the value of `shape` is \"CIRCLE\" the field of view of\n",
    "the instrument is a circular cone centered on the\n",
    "boresight vector. \n",
    "\n",
    "The vertex of the cone is at the instrument focal point.\n",
    "\n",
    "A single vector will be returned in `bounds`.\n",
    "\n",
    "This vector will be parallel to a ray that lies in the cone that makes up the boundary\n",
    "of the field of view.\n"
   ]
  },
  {
   "cell_type": "code",
   "execution_count": 21,
   "id": "de17831e-8ce0-4cf6-b1d1-31b0c76be731",
   "metadata": {
    "execution": {
     "iopub.execute_input": "2023-03-29T12:48:00.609108Z",
     "iopub.status.busy": "2023-03-29T12:48:00.608925Z",
     "iopub.status.idle": "2023-03-29T12:48:00.612246Z",
     "shell.execute_reply": "2023-03-29T12:48:00.611766Z",
     "shell.execute_reply.started": "2023-03-29T12:48:00.609093Z"
    },
    "tags": []
   },
   "outputs": [],
   "source": [
    "(shape, sensor_frame, bsight, vectors, bounds) = spiceypy.getfov(sensor_id,20)"
   ]
  },
  {
   "cell_type": "code",
   "execution_count": 22,
   "id": "beeee808-295d-47e1-9f5c-c2a8bf9b3228",
   "metadata": {
    "execution": {
     "iopub.execute_input": "2023-03-29T12:48:00.614823Z",
     "iopub.status.busy": "2023-03-29T12:48:00.614621Z",
     "iopub.status.idle": "2023-03-29T12:48:00.619567Z",
     "shell.execute_reply": "2023-03-29T12:48:00.619181Z",
     "shell.execute_reply.started": "2023-03-29T12:48:00.614809Z"
    },
    "tags": []
   },
   "outputs": [
    {
     "data": {
      "text/html": [
       "<pre style=\"white-space:pre;overflow-x:auto;line-height:normal;font-family:Menlo,'DejaVu Sans Mono',consolas,'Courier New',monospace\"><span style=\"font-weight: bold\">{</span>\n",
       "    <span style=\"color: #008000; text-decoration-color: #008000\">'shape'</span>: <span style=\"color: #008000; text-decoration-color: #008000\">'CIRCLE'</span>,\n",
       "    <span style=\"color: #008000; text-decoration-color: #008000\">'sensor_frame'</span>: <span style=\"color: #008000; text-decoration-color: #008000\">'MSGR_MASCS_VIRS'</span>,\n",
       "    <span style=\"color: #008000; text-decoration-color: #008000\">'bsight'</span>: <span style=\"color: #800080; text-decoration-color: #800080; font-weight: bold\">array</span><span style=\"font-weight: bold\">([</span><span style=\"color: #008080; text-decoration-color: #008080; font-weight: bold\">0</span>., <span style=\"color: #008080; text-decoration-color: #008080; font-weight: bold\">0</span>., <span style=\"color: #008080; text-decoration-color: #008080; font-weight: bold\">1</span>.<span style=\"font-weight: bold\">])</span>,\n",
       "    <span style=\"color: #008000; text-decoration-color: #008000\">'vectors'</span>: <span style=\"color: #008080; text-decoration-color: #008080; font-weight: bold\">1</span>,\n",
       "    <span style=\"color: #008000; text-decoration-color: #008000\">'bounds'</span>: <span style=\"color: #800080; text-decoration-color: #800080; font-weight: bold\">array</span><span style=\"font-weight: bold\">([[</span><span style=\"color: #008080; text-decoration-color: #008080; font-weight: bold\">2.00712863e-04</span>, <span style=\"color: #008080; text-decoration-color: #008080; font-weight: bold\">0.00000000e+00</span>, <span style=\"color: #008080; text-decoration-color: #008080; font-weight: bold\">9.99999980e-01</span><span style=\"font-weight: bold\">]])</span>\n",
       "<span style=\"font-weight: bold\">}</span>\n",
       "</pre>\n"
      ],
      "text/plain": [
       "\u001b[1m{\u001b[0m\n",
       "    \u001b[32m'shape'\u001b[0m: \u001b[32m'CIRCLE'\u001b[0m,\n",
       "    \u001b[32m'sensor_frame'\u001b[0m: \u001b[32m'MSGR_MASCS_VIRS'\u001b[0m,\n",
       "    \u001b[32m'bsight'\u001b[0m: \u001b[1;35marray\u001b[0m\u001b[1m(\u001b[0m\u001b[1m[\u001b[0m\u001b[1;36m0\u001b[0m., \u001b[1;36m0\u001b[0m., \u001b[1;36m1\u001b[0m.\u001b[1m]\u001b[0m\u001b[1m)\u001b[0m,\n",
       "    \u001b[32m'vectors'\u001b[0m: \u001b[1;36m1\u001b[0m,\n",
       "    \u001b[32m'bounds'\u001b[0m: \u001b[1;35marray\u001b[0m\u001b[1m(\u001b[0m\u001b[1m[\u001b[0m\u001b[1m[\u001b[0m\u001b[1;36m2.00712863e-04\u001b[0m, \u001b[1;36m0.00000000e+00\u001b[0m, \u001b[1;36m9.99999980e-01\u001b[0m\u001b[1m]\u001b[0m\u001b[1m]\u001b[0m\u001b[1m)\u001b[0m\n",
       "\u001b[1m}\u001b[0m\n"
      ]
     },
     "metadata": {},
     "output_type": "display_data"
    }
   ],
   "source": [
    "rich.print({\n",
    "    'shape':shape,\n",
    "    'sensor_frame':sensor_frame,\n",
    "    'bsight':bsight,\n",
    "    'vectors':vectors,\n",
    "    'bounds':bounds,\n",
    "})"
   ]
  },
  {
   "cell_type": "code",
   "execution_count": 23,
   "id": "6c72f8ff-ecb8-46de-be04-0adeb6f80bcc",
   "metadata": {
    "execution": {
     "iopub.execute_input": "2023-03-29T12:48:00.620272Z",
     "iopub.status.busy": "2023-03-29T12:48:00.620109Z",
     "iopub.status.idle": "2023-03-29T12:48:00.623506Z",
     "shell.execute_reply": "2023-03-29T12:48:00.622946Z",
     "shell.execute_reply.started": "2023-03-29T12:48:00.620259Z"
    },
    "tags": []
   },
   "outputs": [],
   "source": [
    "bound_norm = bounds[0]/spiceypy.spiceypy.unorm(bounds[0])[1]"
   ]
  },
  {
   "cell_type": "code",
   "execution_count": 24,
   "id": "55975970-77cf-48df-8e76-1042b878aa83",
   "metadata": {
    "execution": {
     "iopub.execute_input": "2023-03-29T12:48:00.624284Z",
     "iopub.status.busy": "2023-03-29T12:48:00.624107Z",
     "iopub.status.idle": "2023-03-29T12:48:00.627691Z",
     "shell.execute_reply": "2023-03-29T12:48:00.627073Z",
     "shell.execute_reply.started": "2023-03-29T12:48:00.624269Z"
    },
    "tags": []
   },
   "outputs": [
    {
     "name": "stdout",
     "output_type": "stream",
     "text": [
      "steps=120\n",
      "angle_step=3.0\n"
     ]
    }
   ],
   "source": [
    "# rotate bounds vector\n",
    "\n",
    "# angular step in deg\n",
    "steps = 12*10\n",
    "angle_step = 360/steps\n",
    "print(f'{steps=}')\n",
    "print(f'{angle_step=}')\n",
    "angle_step = 360//steps"
   ]
  },
  {
   "cell_type": "code",
   "execution_count": 25,
   "id": "dfc1349e-7e35-4dd4-84a6-1395f0c9a5d3",
   "metadata": {
    "execution": {
     "iopub.execute_input": "2023-03-29T12:48:00.628484Z",
     "iopub.status.busy": "2023-03-29T12:48:00.628324Z",
     "iopub.status.idle": "2023-03-29T12:48:00.630676Z",
     "shell.execute_reply": "2023-03-29T12:48:00.630236Z",
     "shell.execute_reply.started": "2023-03-29T12:48:00.628472Z"
    },
    "tags": []
   },
   "outputs": [],
   "source": [
    "# # print FOV steps\n",
    "# for a in range(0,steps):\n",
    "#     print(f'{a:2d} {angle_step*(a):3d}',spiceypy.vrotv([1,0,0],bsight, np.deg2rad(angle_step*(a))) )  "
   ]
  },
  {
   "cell_type": "code",
   "execution_count": 26,
   "id": "761afd52-1603-454e-87fb-1f8e4ec0c7fe",
   "metadata": {
    "execution": {
     "iopub.execute_input": "2023-03-29T12:48:00.631409Z",
     "iopub.status.busy": "2023-03-29T12:48:00.631247Z",
     "iopub.status.idle": "2023-03-29T12:48:00.827551Z",
     "shell.execute_reply": "2023-03-29T12:48:00.826846Z",
     "shell.execute_reply.started": "2023-03-29T12:48:00.631396Z"
    },
    "tags": []
   },
   "outputs": [
    {
     "data": {
      "text/plain": [
       "Text(0.5, 1.0, 'MASCS VIS Istantaneous Field of View (iFOV) approximated as 120 points')"
      ]
     },
     "execution_count": 26,
     "metadata": {},
     "output_type": "execute_result"
    },
    {
     "data": {
      "image/png": "[encoded data removed]",
      "text/plain": [
       "<Figure size 800x800 with 1 Axes>"
      ]
     },
     "metadata": {},
     "output_type": "display_data"
    }
   ],
   "source": [
    "plt.figure(figsize=[8,8])\n",
    "\n",
    "fov_points = np.asarray([spiceypy.vrotv(bound_norm, bsight, np.deg2rad(angle_step*(a))) for a in range(0,steps)])\n",
    "\n",
    "plt.scatter(fov_points[:,0],fov_points[:,1],s=30)\n",
    "plt.scatter(0,0,s=30)\n",
    "\n",
    "plt.xlabel('X')\n",
    "plt.ylabel('Y')\n",
    "plt.title(f'MASCS VIS Istantaneous Field of View (iFOV) approximated as {steps} points')"
   ]
  },
  {
   "cell_type": "code",
   "execution_count": 27,
   "id": "b0228227-9442-4c0d-9539-ff770b503a3f",
   "metadata": {
    "execution": {
     "iopub.execute_input": "2023-03-29T12:48:00.828398Z",
     "iopub.status.busy": "2023-03-29T12:48:00.828211Z",
     "iopub.status.idle": "2023-03-29T12:48:00.830998Z",
     "shell.execute_reply": "2023-03-29T12:48:00.830559Z",
     "shell.execute_reply.started": "2023-03-29T12:48:00.828382Z"
    },
    "tags": []
   },
   "outputs": [],
   "source": [
    "observer = 'MESSENGER'\n",
    "target_frame = 'IAU_MERCURY'"
   ]
  },
  {
   "cell_type": "code",
   "execution_count": 28,
   "id": "d7c22934-692b-4acf-a98d-dd91d1606dfd",
   "metadata": {
    "execution": {
     "iopub.execute_input": "2023-03-29T12:48:00.831739Z",
     "iopub.status.busy": "2023-03-29T12:48:00.831570Z",
     "iopub.status.idle": "2023-03-29T12:48:00.843082Z",
     "shell.execute_reply": "2023-03-29T12:48:00.842496Z",
     "shell.execute_reply.started": "2023-03-29T12:48:00.831722Z"
    },
    "tags": []
   },
   "outputs": [
    {
     "data": {
      "text/html": [
       "<pre style=\"white-space:pre;overflow-x:auto;line-height:normal;font-family:Menlo,'DejaVu Sans Mono',consolas,'Courier New',monospace\"><span style=\"font-weight: bold\">{</span>\n",
       "    <span style=\"color: #008000; text-decoration-color: #008000\">'computation method'</span>: <span style=\"color: #008000; text-decoration-color: #008000\">'ELLIPSOID'</span>,\n",
       "    <span style=\"color: #008000; text-decoration-color: #008000\">'target'</span>: <span style=\"color: #008000; text-decoration-color: #008000\">'MERCURY'</span>,\n",
       "    <span style=\"color: #008000; text-decoration-color: #008000\">'et'</span>: <span style=\"color: #008080; text-decoration-color: #008080; font-weight: bold\">366457401.18299663</span>,\n",
       "    <span style=\"color: #008000; text-decoration-color: #008000\">'target body frame'</span>: <span style=\"color: #008000; text-decoration-color: #008000\">'IAU_MERCURY'</span>,\n",
       "    <span style=\"color: #008000; text-decoration-color: #008000\">'aberration correction'</span>: <span style=\"color: #008000; text-decoration-color: #008000\">'LT+S'</span>,\n",
       "    <span style=\"color: #008000; text-decoration-color: #008000\">'observing body'</span>: <span style=\"color: #008000; text-decoration-color: #008000\">'MESSENGER'</span>,\n",
       "    <span style=\"color: #008000; text-decoration-color: #008000\">'sensor_frame'</span>: <span style=\"color: #008000; text-decoration-color: #008000\">'MSGR_MASCS_VIRS'</span>\n",
       "<span style=\"font-weight: bold\">}</span>\n",
       "</pre>\n"
      ],
      "text/plain": [
       "\u001b[1m{\u001b[0m\n",
       "    \u001b[32m'computation method'\u001b[0m: \u001b[32m'ELLIPSOID'\u001b[0m,\n",
       "    \u001b[32m'target'\u001b[0m: \u001b[32m'MERCURY'\u001b[0m,\n",
       "    \u001b[32m'et'\u001b[0m: \u001b[1;36m366457401.18299663\u001b[0m,\n",
       "    \u001b[32m'target body frame'\u001b[0m: \u001b[32m'IAU_MERCURY'\u001b[0m,\n",
       "    \u001b[32m'aberration correction'\u001b[0m: \u001b[32m'LT+S'\u001b[0m,\n",
       "    \u001b[32m'observing body'\u001b[0m: \u001b[32m'MESSENGER'\u001b[0m,\n",
       "    \u001b[32m'sensor_frame'\u001b[0m: \u001b[32m'MSGR_MASCS_VIRS'\u001b[0m\n",
       "\u001b[1m}\u001b[0m\n"
      ]
     },
     "metadata": {},
     "output_type": "display_data"
    }
   ],
   "source": [
    "et = spiceypy.utc2et('2011-08-12 21:42:15')       # Convert the UTC datetime in Ephemris Time (ET)\n",
    "rich.print(\n",
    "{'computation method':'ELLIPSOID',\n",
    "'target':target,\n",
    "'et':et,\n",
    "'target body frame':target_frame,\n",
    "'aberration correction':'LT+S',\n",
    "'observing body':observer,\n",
    "'sensor_frame':sensor_frame,\n",
    "})"
   ]
  },
  {
   "cell_type": "code",
   "execution_count": 29,
   "id": "3e4168bf-1f79-426f-b925-71f4c577291f",
   "metadata": {
    "execution": {
     "iopub.execute_input": "2023-03-29T12:48:00.844184Z",
     "iopub.status.busy": "2023-03-29T12:48:00.843922Z",
     "iopub.status.idle": "2023-03-29T12:48:00.847135Z",
     "shell.execute_reply": "2023-03-29T12:48:00.846261Z",
     "shell.execute_reply.started": "2023-03-29T12:48:00.844168Z"
    },
    "tags": []
   },
   "outputs": [],
   "source": [
    "# method = 'ELLIPSOID'\n",
    "method = 'DSK/UNPRIORITIZED/SURFACES = \\\"199\\\"'\n",
    "aberration_correction='LT+S'"
   ]
  },
  {
   "cell_type": "code",
   "execution_count": 30,
   "id": "41ffc3c7-c767-441e-9d04-fddb4f63ca1b",
   "metadata": {
    "execution": {
     "iopub.execute_input": "2023-03-29T12:48:00.847985Z",
     "iopub.status.busy": "2023-03-29T12:48:00.847813Z",
     "iopub.status.idle": "2023-03-29T12:48:00.850396Z",
     "shell.execute_reply": "2023-03-29T12:48:00.849899Z",
     "shell.execute_reply.started": "2023-03-29T12:48:00.847972Z"
    },
    "tags": []
   },
   "outputs": [],
   "source": [
    "# rich.print(geometry_intersect(method,target,et,target_frame, aberration_correction,observer,sensor_frame,bsight) )"
   ]
  },
  {
   "cell_type": "code",
   "execution_count": 31,
   "id": "0bb6657a-6980-49fe-8d38-5979c18737e1",
   "metadata": {
    "execution": {
     "iopub.execute_input": "2023-03-29T12:48:00.851161Z",
     "iopub.status.busy": "2023-03-29T12:48:00.850990Z",
     "iopub.status.idle": "2023-03-29T12:48:00.854460Z",
     "shell.execute_reply": "2023-03-29T12:48:00.853864Z",
     "shell.execute_reply.started": "2023-03-29T12:48:00.851147Z"
    },
    "tags": []
   },
   "outputs": [],
   "source": [
    "from msgmascsgeo import spicefuncs"
   ]
  },
  {
   "cell_type": "code",
   "execution_count": 32,
   "id": "dbb7a395-d966-42f3-a89f-3cc0dfc6971a",
   "metadata": {
    "execution": {
     "iopub.execute_input": "2023-03-29T12:48:00.855239Z",
     "iopub.status.busy": "2023-03-29T12:48:00.855001Z",
     "iopub.status.idle": "2023-03-29T12:48:00.869785Z",
     "shell.execute_reply": "2023-03-29T12:48:00.869162Z",
     "shell.execute_reply.started": "2023-03-29T12:48:00.855224Z"
    },
    "tags": []
   },
   "outputs": [],
   "source": [
    "# calculate the Ephemeris Time (ET)\n",
    "spacecraft_id = spiceypy.bodn2c('MESSENGER')\n",
    "df['ET'] = df.apply(lambda x : spiceypy.scs2e(spacecraft_id,str(x.SPECTRUM_MET+x.SPECTRUM_SUBSECONDS/1000)) ,axis=1)"
   ]
  },
  {
   "cell_type": "code",
   "execution_count": 33,
   "id": "a582a923-0dda-4766-a5b7-524731b5a927",
   "metadata": {
    "execution": {
     "iopub.execute_input": "2023-03-29T12:48:00.870516Z",
     "iopub.status.busy": "2023-03-29T12:48:00.870336Z",
     "iopub.status.idle": "2023-03-29T12:48:00.884097Z",
     "shell.execute_reply": "2023-03-29T12:48:00.883446Z",
     "shell.execute_reply.started": "2023-03-29T12:48:00.870495Z"
    },
    "tags": []
   },
   "outputs": [],
   "source": [
    "gdf_pds_poly  = gpd.GeoDataFrame(data=df.copy() ,geometry=polygon_list)\n",
    "gdf_pds_point = gpd.GeoDataFrame(data=df.copy(),geometry= points_list)"
   ]
  },
  {
   "cell_type": "code",
   "execution_count": 34,
   "id": "16088031-098c-479c-9eab-88a1d6852794",
   "metadata": {
    "execution": {
     "iopub.execute_input": "2023-03-29T12:48:00.884807Z",
     "iopub.status.busy": "2023-03-29T12:48:00.884660Z",
     "iopub.status.idle": "2023-03-29T12:48:01.018621Z",
     "shell.execute_reply": "2023-03-29T12:48:01.018169Z",
     "shell.execute_reply.started": "2023-03-29T12:48:00.884794Z"
    },
    "tags": []
   },
   "outputs": [
    {
     "data": {
      "text/plain": [
       "<Axes: >"
      ]
     },
     "execution_count": 34,
     "metadata": {},
     "output_type": "execute_result"
    },
    {
     "data": {
      "image/png": "[encoded data removed]",
      "text/plain": [
       "<Figure size 640x480 with 1 Axes>"
      ]
     },
     "metadata": {},
     "output_type": "display_data"
    }
   ],
   "source": [
    "gdf_pds_poly.plot()"
   ]
  },
  {
   "cell_type": "code",
   "execution_count": 35,
   "id": "d13aaf7b-863e-47e4-b9ca-97b758d62998",
   "metadata": {
    "execution": {
     "iopub.execute_input": "2023-03-29T12:48:01.019369Z",
     "iopub.status.busy": "2023-03-29T12:48:01.019195Z",
     "iopub.status.idle": "2023-03-29T12:48:01.217327Z",
     "shell.execute_reply": "2023-03-29T12:48:01.216735Z",
     "shell.execute_reply.started": "2023-03-29T12:48:01.019355Z"
    },
    "tags": []
   },
   "outputs": [
    {
     "data": {
      "text/plain": [
       "<Axes: >"
      ]
     },
     "execution_count": 35,
     "metadata": {},
     "output_type": "execute_result"
    },
    {
     "data": {
      "image/png": "[encoded data removed]",
      "text/plain": [
       "<Figure size 2000x800 with 1 Axes>"
      ]
     },
     "metadata": {},
     "output_type": "display_data"
    }
   ],
   "source": [
    "ax = gdf_pds_poly.head(2).plot(figsize=[20,8],facecolor='none',column='SC_TIME',cmap=plt.cm.Spectral_r)\n",
    "gdf_pds_point.head(2).plot(ax=ax)"
   ]
  },
  {
   "cell_type": "code",
   "execution_count": 36,
   "id": "0b6b132e-6a8d-4d31-a79c-aa64ccc38906",
   "metadata": {
    "execution": {
     "iopub.execute_input": "2023-03-29T12:48:01.218248Z",
     "iopub.status.busy": "2023-03-29T12:48:01.218024Z",
     "iopub.status.idle": "2023-03-29T12:48:01.224569Z",
     "shell.execute_reply": "2023-03-29T12:48:01.224020Z",
     "shell.execute_reply.started": "2023-03-29T12:48:01.218228Z"
    },
    "tags": []
   },
   "outputs": [
    {
     "data": {
      "text/plain": [
       "('DSK/UNPRIORITIZED/SURFACES = \"199\"',\n",
       " 'MERCURY',\n",
       " 366457522.1829966,\n",
       " 200,\n",
       " 'IAU_MERCURY',\n",
       " 'LT+S',\n",
       " 'MESSENGER',\n",
       " 'MSGR_MASCS_VIRS',\n",
       " array([2439.4, 2439.4, 2439.4]),\n",
       " 199,\n",
       " array([0., 0., 1.]))"
      ]
     },
     "execution_count": 36,
     "metadata": {},
     "output_type": "execute_result"
    }
   ],
   "source": [
    "(method,\n",
    "target,\n",
    "spiceypy.utc2et(str(df.loc[200,'SPECTRUM_UTC_TIME'])),\n",
    "df.loc[200,'pid'],\n",
    "target_frame,\n",
    "aberration_correction,\n",
    "observer,\n",
    "sensor_frame,\n",
    "radii,\n",
    "tarid,\n",
    "bsight)"
   ]
  },
  {
   "cell_type": "code",
   "execution_count": 39,
   "id": "7203daa0-9239-4e71-986a-cb1f27aae107",
   "metadata": {
    "execution": {
     "iopub.execute_input": "2023-03-29T12:48:08.884132Z",
     "iopub.status.busy": "2023-03-29T12:48:08.883833Z",
     "iopub.status.idle": "2023-03-29T12:48:08.890305Z",
     "shell.execute_reply": "2023-03-29T12:48:08.889762Z",
     "shell.execute_reply.started": "2023-03-29T12:48:08.884108Z"
    },
    "tags": []
   },
   "outputs": [
    {
     "data": {
      "text/plain": [
       "{'method': 'DSK/UNPRIORITIZED/SURFACES = \"199\"',\n",
       " 'et': 366457522.1829966,\n",
       " 'pid': 200,\n",
       " 'spoint': array([1059.23837896, 1997.67143337, -915.63215834]),\n",
       " 'trgepc': 366457522.16719073,\n",
       " 'srfvec': array([  832.96708578, -2530.65139567,  2109.52463544]),\n",
       " 'tarlon': 62.065830901248404,\n",
       " 'tarlat': -22.04527755259405,\n",
       " 'taralt': 0.07931914625473468,\n",
       " 'tardis': 3398.2532515850585,\n",
       " 'tarang ': 93.3701127884854,\n",
       " 'trgenpc': 366457522.1716612,\n",
       " 'phase': 77.85278417897125,\n",
       " 'incdnc': 34.870795067570675,\n",
       " 'emissn': 42.98983078491956,\n",
       " 'visiblef': True,\n",
       " 'iluminatedf': True,\n",
       " 'hr': 13,\n",
       " 'mn': 53,\n",
       " 'sc': 12,\n",
       " 'ltime': '13:53:12',\n",
       " 'ampm': '01:53:12 P.M.',\n",
       " 'sublon': 87.14059231909094,\n",
       " 'sublat': -33.71241193084964,\n",
       " 'subalt': -2.246736831372798,\n",
       " 'srfev': array([ 1801.73620697, -3172.46877209,  3023.62103653]),\n",
       " 'sunlon': 33.76234446979182,\n",
       " 'sunlat': -0.033349787346125814,\n",
       " 'sunalt': 0.14119952827096688}"
      ]
     },
     "execution_count": 39,
     "metadata": {},
     "output_type": "execute_result"
    }
   ],
   "source": [
    "# 1 fov point for fixed times \n",
    "spicefuncs.geometry_intersect(\n",
    "                    method,\n",
    "                    target,\n",
    "                    spiceypy.utc2et(str(df.loc[200,'SPECTRUM_UTC_TIME'])),\n",
    "                    df.loc[200,'pid'],\n",
    "                    target_frame,\n",
    "                    aberration_correction,\n",
    "                    observer,\n",
    "                    sensor_frame,\n",
    "                    radii,\n",
    "                    tarid,\n",
    "                    bsight)"
   ]
  },
  {
   "cell_type": "code",
   "execution_count": 40,
   "id": "4b75ef1f-3a80-441d-b4f9-b199ca9191ed",
   "metadata": {
    "execution": {
     "iopub.execute_input": "2023-03-29T12:48:09.424015Z",
     "iopub.status.busy": "2023-03-29T12:48:09.423812Z",
     "iopub.status.idle": "2023-03-29T12:48:09.510396Z",
     "shell.execute_reply": "2023-03-29T12:48:09.509612Z",
     "shell.execute_reply.started": "2023-03-29T12:48:09.424001Z"
    },
    "tags": []
   },
   "outputs": [],
   "source": [
    "# fov points for fixed times\n",
    "points_df = pd.DataFrame.from_dict([\n",
    "    spicefuncs.geometry_intersect(\n",
    "                    method,\n",
    "                    target,\n",
    "                    spiceypy.utc2et(str(df.loc[200,'SPECTRUM_UTC_TIME'])),\n",
    "                    df.loc[200,'pid'],\n",
    "                    target_frame,\n",
    "                    aberration_correction,\n",
    "                    observer,\n",
    "                    sensor_frame,\n",
    "                    radii,\n",
    "                    tarid,\n",
    "                    bsight) for v in fov_points] )\n",
    "# points_df.T"
   ]
  },
  {
   "cell_type": "code",
   "execution_count": 41,
   "id": "161af8e5-bfdd-4467-8f9b-ad666ceed7c9",
   "metadata": {
    "execution": {
     "iopub.execute_input": "2023-03-29T12:48:11.112046Z",
     "iopub.status.busy": "2023-03-29T12:48:11.111771Z",
     "iopub.status.idle": "2023-03-29T12:48:11.155196Z",
     "shell.execute_reply": "2023-03-29T12:48:11.154490Z",
     "shell.execute_reply.started": "2023-03-29T12:48:11.112031Z"
    },
    "tags": []
   },
   "outputs": [],
   "source": [
    "from tqdm.notebook import trange, tqdm\n",
    "from tqdm.gui import tqdm as tqdm_gui\n",
    "\n",
    "tqdm.pandas()  # can use tqdm_gui, optional kwargs, etc"
   ]
  },
  {
   "cell_type": "code",
   "execution_count": 42,
   "id": "5c5afcb2-7dc5-4041-9d10-40237ff3a675",
   "metadata": {
    "execution": {
     "iopub.execute_input": "2023-03-29T12:48:11.840771Z",
     "iopub.status.busy": "2023-03-29T12:48:11.840571Z",
     "iopub.status.idle": "2023-03-29T12:48:11.845583Z",
     "shell.execute_reply": "2023-03-29T12:48:11.845085Z",
     "shell.execute_reply.started": "2023-03-29T12:48:11.840757Z"
    },
    "tags": []
   },
   "outputs": [
    {
     "name": "stdout",
     "output_type": "stream",
     "text": [
      "(35, 24)\n"
     ]
    }
   ],
   "source": [
    "# calculate for all measurements in orbit at spectrum_utc_time (vector)\n",
    "to_fovs_df = gdf_pds_poly.iloc[5:40]\n",
    "print(to_fovs_df.shape)"
   ]
  },
  {
   "cell_type": "code",
   "execution_count": 43,
   "id": "a1bf55b9-2f7c-4a56-ab70-6f9e843acbd6",
   "metadata": {
    "execution": {
     "iopub.execute_input": "2023-03-29T12:48:12.567867Z",
     "iopub.status.busy": "2023-03-29T12:48:12.567617Z",
     "iopub.status.idle": "2023-03-29T12:48:12.693312Z",
     "shell.execute_reply": "2023-03-29T12:48:12.692829Z",
     "shell.execute_reply.started": "2023-03-29T12:48:12.567840Z"
    },
    "tags": []
   },
   "outputs": [
    {
     "data": {
      "text/plain": [
       "<Axes: >"
      ]
     },
     "execution_count": 43,
     "metadata": {},
     "output_type": "execute_result"
    },
    {
     "data": {
      "image/png": "[encoded data removed]",
      "text/plain": [
       "<Figure size 640x480 with 1 Axes>"
      ]
     },
     "metadata": {},
     "output_type": "display_data"
    }
   ],
   "source": [
    "to_fovs_df.plot(facecolor='none')"
   ]
  },
  {
   "cell_type": "code",
   "execution_count": 44,
   "id": "a5e04057-f6b0-46bd-8b7c-30e9db1bb655",
   "metadata": {
    "execution": {
     "iopub.execute_input": "2023-03-29T12:48:13.291336Z",
     "iopub.status.busy": "2023-03-29T12:48:13.290999Z",
     "iopub.status.idle": "2023-03-29T12:48:13.294643Z",
     "shell.execute_reply": "2023-03-29T12:48:13.294025Z",
     "shell.execute_reply.started": "2023-03-29T12:48:13.291308Z"
    },
    "tags": []
   },
   "outputs": [],
   "source": [
    "import functools"
   ]
  },
  {
   "cell_type": "code",
   "execution_count": 45,
   "id": "6d283717-4871-471f-bc74-7d6c26c43625",
   "metadata": {
    "execution": {
     "iopub.execute_input": "2023-03-29T12:48:13.810232Z",
     "iopub.status.busy": "2023-03-29T12:48:13.809785Z",
     "iopub.status.idle": "2023-03-29T12:48:14.211507Z",
     "shell.execute_reply": "2023-03-29T12:48:14.211040Z",
     "shell.execute_reply.started": "2023-03-29T12:48:13.810208Z"
    },
    "tags": []
   },
   "outputs": [
    {
     "data": {
      "text/html": [
       "<div>\n",
       "<style scoped>\n",
       "    .dataframe tbody tr th:only-of-type {\n",
       "        vertical-align: middle;\n",
       "    }\n",
       "\n",
       "    .dataframe tbody tr th {\n",
       "        vertical-align: top;\n",
       "    }\n",
       "\n",
       "    .dataframe thead th {\n",
       "        text-align: right;\n",
       "    }\n",
       "</style>\n",
       "<table border=\"1\" class=\"dataframe\">\n",
       "  <thead>\n",
       "    <tr style=\"text-align: right;\">\n",
       "      <th></th>\n",
       "      <th>time_steps</th>\n",
       "      <th>fov</th>\n",
       "      <th>std_trgepc</th>\n",
       "      <th>std_tarlon</th>\n",
       "      <th>std_tarlat</th>\n",
       "      <th>std_taralt</th>\n",
       "      <th>std_tardis</th>\n",
       "      <th>std_tarang</th>\n",
       "      <th>std_trgenpc</th>\n",
       "      <th>std_phase</th>\n",
       "      <th>std_incdnc</th>\n",
       "      <th>std_emissn</th>\n",
       "      <th>std_hr</th>\n",
       "      <th>std_mn</th>\n",
       "      <th>std_sc</th>\n",
       "      <th>std_sublon</th>\n",
       "      <th>std_sublat</th>\n",
       "      <th>std_subalt</th>\n",
       "      <th>std_sunlon</th>\n",
       "      <th>std_sunlat</th>\n",
       "      <th>std_sunalt</th>\n",
       "      <th>mean_trgepc</th>\n",
       "      <th>mean_tarlon</th>\n",
       "      <th>mean_tarlat</th>\n",
       "      <th>mean_taralt</th>\n",
       "      <th>mean_tardis</th>\n",
       "      <th>mean_tarang</th>\n",
       "      <th>mean_trgenpc</th>\n",
       "      <th>mean_phase</th>\n",
       "      <th>mean_incdnc</th>\n",
       "      <th>mean_emissn</th>\n",
       "      <th>mean_hr</th>\n",
       "      <th>mean_mn</th>\n",
       "      <th>mean_sc</th>\n",
       "      <th>mean_sublon</th>\n",
       "      <th>mean_sublat</th>\n",
       "      <th>mean_subalt</th>\n",
       "      <th>mean_sunlon</th>\n",
       "      <th>mean_sunlat</th>\n",
       "      <th>mean_sunalt</th>\n",
       "    </tr>\n",
       "    <tr>\n",
       "      <th>pid</th>\n",
       "      <th></th>\n",
       "      <th></th>\n",
       "      <th></th>\n",
       "      <th></th>\n",
       "      <th></th>\n",
       "      <th></th>\n",
       "      <th></th>\n",
       "      <th></th>\n",
       "      <th></th>\n",
       "      <th></th>\n",
       "      <th></th>\n",
       "      <th></th>\n",
       "      <th></th>\n",
       "      <th></th>\n",
       "      <th></th>\n",
       "      <th></th>\n",
       "      <th></th>\n",
       "      <th></th>\n",
       "      <th></th>\n",
       "      <th></th>\n",
       "      <th></th>\n",
       "      <th></th>\n",
       "      <th></th>\n",
       "      <th></th>\n",
       "      <th></th>\n",
       "      <th></th>\n",
       "      <th></th>\n",
       "      <th></th>\n",
       "      <th></th>\n",
       "      <th></th>\n",
       "      <th></th>\n",
       "      <th></th>\n",
       "      <th></th>\n",
       "      <th></th>\n",
       "      <th></th>\n",
       "      <th></th>\n",
       "      <th></th>\n",
       "      <th></th>\n",
       "      <th></th>\n",
       "      <th></th>\n",
       "    </tr>\n",
       "  </thead>\n",
       "  <tbody>\n",
       "    <tr>\n",
       "      <th>5</th>\n",
       "      <td>0.00</td>\n",
       "      <td>POLYGON ((60.33496780942908 -17.80568666151769...</td>\n",
       "      <td>5.9855e-08</td>\n",
       "      <td>0.0146</td>\n",
       "      <td>0.0116</td>\n",
       "      <td>0.0048</td>\n",
       "      <td>0.4578</td>\n",
       "      <td>0.0318</td>\n",
       "      <td>1.5300e-06</td>\n",
       "      <td>0.0082</td>\n",
       "      <td>4.3768e-02</td>\n",
       "      <td>0.0386</td>\n",
       "      <td>0.0</td>\n",
       "      <td>0.0</td>\n",
       "      <td>3.5551</td>\n",
       "      <td>1.4270e-14</td>\n",
       "      <td>0.0000e+00</td>\n",
       "      <td>0.0000e+00</td>\n",
       "      <td>0.0000e+00</td>\n",
       "      <td>6.9680e-18</td>\n",
       "      <td>5.5744e-17</td>\n",
       "      <td>3.6646e+08</td>\n",
       "      <td>60.3272</td>\n",
       "      <td>-17.8182</td>\n",
       "      <td>0.4336</td>\n",
       "      <td>3076.2068</td>\n",
       "      <td>94.4421</td>\n",
       "      <td>3.6646e+08</td>\n",
       "      <td>78.1412</td>\n",
       "      <td>31.8959</td>\n",
       "      <td>46.2518</td>\n",
       "      <td>13.0</td>\n",
       "      <td>46.0</td>\n",
       "      <td>13.1583</td>\n",
       "      <td>86.3312</td>\n",
       "      <td>-28.5557</td>\n",
       "      <td>-0.2876</td>\n",
       "      <td>33.7703</td>\n",
       "      <td>-0.0334</td>\n",
       "      <td>0.1456</td>\n",
       "    </tr>\n",
       "    <tr>\n",
       "      <th>5</th>\n",
       "      <td>0.25</td>\n",
       "      <td>POLYGON ((60.36884948471309 -17.81000464364486...</td>\n",
       "      <td>0.0000e+00</td>\n",
       "      <td>0.0146</td>\n",
       "      <td>0.0116</td>\n",
       "      <td>0.0036</td>\n",
       "      <td>0.4587</td>\n",
       "      <td>0.0318</td>\n",
       "      <td>1.5318e-06</td>\n",
       "      <td>0.0082</td>\n",
       "      <td>4.8606e-07</td>\n",
       "      <td>0.0082</td>\n",
       "      <td>0.0</td>\n",
       "      <td>0.0</td>\n",
       "      <td>3.5254</td>\n",
       "      <td>0.0000e+00</td>\n",
       "      <td>1.0703e-14</td>\n",
       "      <td>1.1149e-16</td>\n",
       "      <td>7.1352e-15</td>\n",
       "      <td>6.9680e-18</td>\n",
       "      <td>2.7872e-17</td>\n",
       "      <td>3.6646e+08</td>\n",
       "      <td>60.3611</td>\n",
       "      <td>-17.8225</td>\n",
       "      <td>0.4241</td>\n",
       "      <td>3075.7185</td>\n",
       "      <td>94.4984</td>\n",
       "      <td>3.6646e+08</td>\n",
       "      <td>78.1263</td>\n",
       "      <td>31.8318</td>\n",
       "      <td>46.3016</td>\n",
       "      <td>13.0</td>\n",
       "      <td>46.0</td>\n",
       "      <td>21.2583</td>\n",
       "      <td>86.3321</td>\n",
       "      <td>-28.5614</td>\n",
       "      <td>-0.2892</td>\n",
       "      <td>33.7703</td>\n",
       "      <td>-0.0334</td>\n",
       "      <td>0.1456</td>\n",
       "    </tr>\n",
       "    <tr>\n",
       "      <th>5</th>\n",
       "      <td>0.50</td>\n",
       "      <td>POLYGON ((60.402729680411774 -17.8143246331583...</td>\n",
       "      <td>1.1971e-07</td>\n",
       "      <td>0.0146</td>\n",
       "      <td>0.0116</td>\n",
       "      <td>0.0033</td>\n",
       "      <td>0.4585</td>\n",
       "      <td>0.0318</td>\n",
       "      <td>1.5299e-06</td>\n",
       "      <td>0.0082</td>\n",
       "      <td>2.7933e-02</td>\n",
       "      <td>0.0229</td>\n",
       "      <td>0.0</td>\n",
       "      <td>0.0</td>\n",
       "      <td>3.4730</td>\n",
       "      <td>2.8541e-14</td>\n",
       "      <td>1.0703e-14</td>\n",
       "      <td>0.0000e+00</td>\n",
       "      <td>7.1352e-15</td>\n",
       "      <td>1.3936e-17</td>\n",
       "      <td>0.0000e+00</td>\n",
       "      <td>3.6646e+08</td>\n",
       "      <td>60.3950</td>\n",
       "      <td>-17.8268</td>\n",
       "      <td>0.4166</td>\n",
       "      <td>3075.2293</td>\n",
       "      <td>94.5548</td>\n",
       "      <td>3.6646e+08</td>\n",
       "      <td>78.1115</td>\n",
       "      <td>31.8169</td>\n",
       "      <td>46.3014</td>\n",
       "      <td>13.0</td>\n",
       "      <td>46.0</td>\n",
       "      <td>29.4250</td>\n",
       "      <td>86.3329</td>\n",
       "      <td>-28.5670</td>\n",
       "      <td>-0.2909</td>\n",
       "      <td>33.7703</td>\n",
       "      <td>-0.0334</td>\n",
       "      <td>0.1456</td>\n",
       "    </tr>\n",
       "    <tr>\n",
       "      <th>5</th>\n",
       "      <td>0.75</td>\n",
       "      <td>POLYGON ((60.436610007349636 -17.8186475690937...</td>\n",
       "      <td>5.9855e-08</td>\n",
       "      <td>0.0146</td>\n",
       "      <td>0.0116</td>\n",
       "      <td>0.0028</td>\n",
       "      <td>0.4589</td>\n",
       "      <td>0.0319</td>\n",
       "      <td>1.5329e-06</td>\n",
       "      <td>0.0082</td>\n",
       "      <td>3.1331e-02</td>\n",
       "      <td>0.0250</td>\n",
       "      <td>0.0</td>\n",
       "      <td>0.0</td>\n",
       "      <td>3.4467</td>\n",
       "      <td>2.8541e-14</td>\n",
       "      <td>7.1352e-15</td>\n",
       "      <td>5.5744e-17</td>\n",
       "      <td>0.0000e+00</td>\n",
       "      <td>6.9680e-18</td>\n",
       "      <td>5.5744e-17</td>\n",
       "      <td>3.6646e+08</td>\n",
       "      <td>60.4289</td>\n",
       "      <td>-17.8311</td>\n",
       "      <td>0.4104</td>\n",
       "      <td>3074.7399</td>\n",
       "      <td>94.6112</td>\n",
       "      <td>3.6646e+08</td>\n",
       "      <td>78.0966</td>\n",
       "      <td>31.7869</td>\n",
       "      <td>46.3161</td>\n",
       "      <td>13.0</td>\n",
       "      <td>46.0</td>\n",
       "      <td>37.5500</td>\n",
       "      <td>86.3338</td>\n",
       "      <td>-28.5727</td>\n",
       "      <td>-0.2925</td>\n",
       "      <td>33.7703</td>\n",
       "      <td>-0.0334</td>\n",
       "      <td>0.1456</td>\n",
       "    </tr>\n",
       "    <tr>\n",
       "      <th>5</th>\n",
       "      <td>1.00</td>\n",
       "      <td>POLYGON ((60.47048837078595 -17.82298081287918...</td>\n",
       "      <td>0.0000e+00</td>\n",
       "      <td>0.0146</td>\n",
       "      <td>0.0116</td>\n",
       "      <td>0.0026</td>\n",
       "      <td>0.4588</td>\n",
       "      <td>0.0319</td>\n",
       "      <td>1.5311e-06</td>\n",
       "      <td>0.0082</td>\n",
       "      <td>4.8637e-07</td>\n",
       "      <td>0.0082</td>\n",
       "      <td>0.0</td>\n",
       "      <td>0.0</td>\n",
       "      <td>3.5241</td>\n",
       "      <td>2.8541e-14</td>\n",
       "      <td>1.0703e-14</td>\n",
       "      <td>0.0000e+00</td>\n",
       "      <td>7.1352e-15</td>\n",
       "      <td>0.0000e+00</td>\n",
       "      <td>2.7872e-17</td>\n",
       "      <td>3.6646e+08</td>\n",
       "      <td>60.4627</td>\n",
       "      <td>-17.8355</td>\n",
       "      <td>0.4056</td>\n",
       "      <td>3074.2507</td>\n",
       "      <td>94.6677</td>\n",
       "      <td>3.6646e+08</td>\n",
       "      <td>78.0817</td>\n",
       "      <td>31.7653</td>\n",
       "      <td>46.3225</td>\n",
       "      <td>13.0</td>\n",
       "      <td>46.0</td>\n",
       "      <td>45.7250</td>\n",
       "      <td>86.3346</td>\n",
       "      <td>-28.5784</td>\n",
       "      <td>-0.2941</td>\n",
       "      <td>33.7703</td>\n",
       "      <td>-0.0334</td>\n",
       "      <td>0.1456</td>\n",
       "    </tr>\n",
       "  </tbody>\n",
       "</table>\n",
       "<p>5 rows × 40 columns</p>\n",
       "</div>"
      ],
      "text/plain": [
       "     time_steps                                                fov  std_trgepc  std_tarlon  std_tarlat  std_taralt  std_tardis  std_tarang   std_trgenpc  std_phase  std_incdnc  std_emissn  std_hr  std_mn  std_sc  std_sublon  std_sublat  std_subalt  std_sunlon  std_sunlat  std_sunalt  mean_trgepc  mean_tarlon  mean_tarlat  mean_taralt  mean_tardis  mean_tarang   mean_trgenpc  mean_phase  mean_incdnc  mean_emissn  mean_hr  mean_mn  mean_sc  mean_sublon  mean_sublat  mean_subalt  mean_sunlon  mean_sunlat  mean_sunalt\n",
       "pid                                                                                                                                                                                                                                                                                                                                                                                                                                                                                                                                    \n",
       "5          0.00  POLYGON ((60.33496780942908 -17.80568666151769...  5.9855e-08      0.0146      0.0116      0.0048      0.4578       0.0318   1.5300e-06     0.0082  4.3768e-02      0.0386     0.0     0.0  3.5551  1.4270e-14  0.0000e+00  0.0000e+00  0.0000e+00  6.9680e-18  5.5744e-17   3.6646e+08      60.3272     -17.8182       0.4336    3076.2068       94.4421    3.6646e+08     78.1412      31.8959      46.2518     13.0     46.0  13.1583      86.3312     -28.5557      -0.2876      33.7703      -0.0334       0.1456\n",
       "5          0.25  POLYGON ((60.36884948471309 -17.81000464364486...  0.0000e+00      0.0146      0.0116      0.0036      0.4587       0.0318   1.5318e-06     0.0082  4.8606e-07      0.0082     0.0     0.0  3.5254  0.0000e+00  1.0703e-14  1.1149e-16  7.1352e-15  6.9680e-18  2.7872e-17   3.6646e+08      60.3611     -17.8225       0.4241    3075.7185       94.4984    3.6646e+08     78.1263      31.8318      46.3016     13.0     46.0  21.2583      86.3321     -28.5614      -0.2892      33.7703      -0.0334       0.1456\n",
       "5          0.50  POLYGON ((60.402729680411774 -17.8143246331583...  1.1971e-07      0.0146      0.0116      0.0033      0.4585       0.0318   1.5299e-06     0.0082  2.7933e-02      0.0229     0.0     0.0  3.4730  2.8541e-14  1.0703e-14  0.0000e+00  7.1352e-15  1.3936e-17  0.0000e+00   3.6646e+08      60.3950     -17.8268       0.4166    3075.2293       94.5548    3.6646e+08     78.1115      31.8169      46.3014     13.0     46.0  29.4250      86.3329     -28.5670      -0.2909      33.7703      -0.0334       0.1456\n",
       "5          0.75  POLYGON ((60.436610007349636 -17.8186475690937...  5.9855e-08      0.0146      0.0116      0.0028      0.4589       0.0319   1.5329e-06     0.0082  3.1331e-02      0.0250     0.0     0.0  3.4467  2.8541e-14  7.1352e-15  5.5744e-17  0.0000e+00  6.9680e-18  5.5744e-17   3.6646e+08      60.4289     -17.8311       0.4104    3074.7399       94.6112    3.6646e+08     78.0966      31.7869      46.3161     13.0     46.0  37.5500      86.3338     -28.5727      -0.2925      33.7703      -0.0334       0.1456\n",
       "5          1.00  POLYGON ((60.47048837078595 -17.82298081287918...  0.0000e+00      0.0146      0.0116      0.0026      0.4588       0.0319   1.5311e-06     0.0082  4.8637e-07      0.0082     0.0     0.0  3.5241  2.8541e-14  1.0703e-14  0.0000e+00  7.1352e-15  0.0000e+00  2.7872e-17   3.6646e+08      60.4627     -17.8355       0.4056    3074.2507       94.6677    3.6646e+08     78.0817      31.7653      46.3225     13.0     46.0  45.7250      86.3346     -28.5784      -0.2941      33.7703      -0.0334       0.1456\n",
       "\n",
       "[5 rows x 40 columns]"
      ]
     },
     "execution_count": 45,
     "metadata": {},
     "output_type": "execute_result"
    }
   ],
   "source": [
    "spicefuncs.row_to_shape(  to_fovs_df.iloc[0],\n",
    "                          starting_fovs_n=5,\n",
    "                          radii=radii,\n",
    "                          tarid=tarid,\n",
    "                          fov_points=fov_points, \n",
    "                          method=method,\n",
    "                          target=target,\n",
    "                          target_frame=target_frame,\n",
    "                          aberration_correction=aberration_correction,\n",
    "                          observer=observer,\n",
    "                          sensor_frame=sensor_frame)"
   ]
  },
  {
   "cell_type": "code",
   "execution_count": 46,
   "id": "9dca4eb8-04fa-4abf-9576-80f930274bcd",
   "metadata": {
    "execution": {
     "iopub.execute_input": "2023-03-29T12:48:14.825677Z",
     "iopub.status.busy": "2023-03-29T12:48:14.825166Z",
     "iopub.status.idle": "2023-03-29T12:48:27.723525Z",
     "shell.execute_reply": "2023-03-29T12:48:27.723069Z",
     "shell.execute_reply.started": "2023-03-29T12:48:14.825651Z"
    },
    "tags": []
   },
   "outputs": [
    {
     "data": {
      "application/vnd.jupyter.widget-view+json": {
       "model_id": "86217556768c41ac9f4d884bd1b1eda0",
       "version_major": 2,
       "version_minor": 0
      },
      "text/plain": [
       "  0%|          | 0/35 [00:00<?, ?it/s]"
      ]
     },
     "metadata": {},
     "output_type": "display_data"
    }
   ],
   "source": [
    "ifovs_df = pd.concat(to_fovs_df.reset_index().progress_apply(functools.partial(spicefuncs.row_to_shape,\n",
    "                                                                              starting_fovs_n=5,\n",
    "                                                                              radii=radii,\n",
    "                                                                              tarid=tarid,\n",
    "                                                                              fov_points=fov_points, \n",
    "                                                                              method=method,\n",
    "                                                                              target=target,\n",
    "                                                                              target_frame=target_frame,\n",
    "                                                                              aberration_correction=aberration_correction,\n",
    "                                                                              observer=observer,\n",
    "                                                                              sensor_frame=sensor_frame,)\n",
    "                                                            ,axis=1).values)"
   ]
  },
  {
   "cell_type": "code",
   "execution_count": 47,
   "id": "3f907294-f236-4484-b9f9-897170e6aae1",
   "metadata": {
    "execution": {
     "iopub.execute_input": "2023-03-29T12:48:27.724521Z",
     "iopub.status.busy": "2023-03-29T12:48:27.724347Z",
     "iopub.status.idle": "2023-03-29T12:48:27.767666Z",
     "shell.execute_reply": "2023-03-29T12:48:27.766949Z",
     "shell.execute_reply.started": "2023-03-29T12:48:27.724507Z"
    },
    "lines_to_next_cell": 2,
    "tags": []
   },
   "outputs": [],
   "source": [
    "# convert iFOVS to Geopandas.GeoDataFrame\n",
    "geofovs_df = gpd.GeoDataFrame(ifovs_df.reset_index(drop=0), geometry='fov')\n",
    "# iFOVS unary_union.convex_hull : size == initial size, one geometry per measurement\n",
    "geounion_gdf = gpd.GeoDataFrame(\n",
    "    geofovs_df.drop(columns=['fov']).groupby('pid').agg(np.median),             # group per PID and average\n",
    "    geometry=[v.unary_union.convex_hull for k,v in geofovs_df.groupby('pid')]# assemble union geometry\n",
    ").reset_index(drop=0)"
   ]
  },
  {
   "cell_type": "code",
   "execution_count": 48,
   "id": "97d232a4-2b2f-4f67-ae9e-a9b5329e5750",
   "metadata": {
    "execution": {
     "iopub.execute_input": "2023-03-29T12:48:27.768365Z",
     "iopub.status.busy": "2023-03-29T12:48:27.768224Z",
     "iopub.status.idle": "2023-03-29T12:48:27.772738Z",
     "shell.execute_reply": "2023-03-29T12:48:27.771907Z",
     "shell.execute_reply.started": "2023-03-29T12:48:27.768353Z"
    },
    "tags": []
   },
   "outputs": [
    {
     "data": {
      "text/plain": [
       "Index(['pid', 'time_steps', 'fov', 'std_trgepc', 'std_tarlon', 'std_tarlat', 'std_taralt', 'std_tardis', 'std_tarang ', 'std_trgenpc', 'std_phase', 'std_incdnc', 'std_emissn', 'std_hr', 'std_mn',\n",
       "       'std_sc', 'std_sublon', 'std_sublat', 'std_subalt', 'std_sunlon', 'std_sunlat', 'std_sunalt', 'mean_trgepc', 'mean_tarlon', 'mean_tarlat', 'mean_taralt', 'mean_tardis', 'mean_tarang ',\n",
       "       'mean_trgenpc', 'mean_phase', 'mean_incdnc', 'mean_emissn', 'mean_hr', 'mean_mn', 'mean_sc', 'mean_sublon', 'mean_sublat', 'mean_subalt', 'mean_sunlon', 'mean_sunlat', 'mean_sunalt'],\n",
       "      dtype='object')"
      ]
     },
     "execution_count": 48,
     "metadata": {},
     "output_type": "execute_result"
    }
   ],
   "source": [
    "geofovs_df.columns"
   ]
  },
  {
   "cell_type": "code",
   "execution_count": 159,
   "id": "22f5f3dd-eeb7-48ff-8065-432d3c169a67",
   "metadata": {
    "execution": {
     "iopub.execute_input": "2023-03-29T13:30:35.405558Z",
     "iopub.status.busy": "2023-03-29T13:30:35.405380Z",
     "iopub.status.idle": "2023-03-29T13:30:36.106948Z",
     "shell.execute_reply": "2023-03-29T13:30:36.106274Z",
     "shell.execute_reply.started": "2023-03-29T13:30:35.405545Z"
    },
    "tags": []
   },
   "outputs": [
    {
     "data": {
      "image/png": "[encoded data removed]",
      "text/plain": [
       "<Figure size 1500x1000 with 4 Axes>"
      ]
     },
     "metadata": {},
     "output_type": "display_data"
    }
   ],
   "source": [
    "fig, axs = plt.subplots(ncols=2,nrows=2,figsize=[15,10])\n",
    "axs = axs.flatten()\n",
    "\n",
    "gdf_pds_poly.set_index('pid').loc[geounion_gdf.pid].plot(ax=axs[0],column='INCIDENCE_ANGLE',edgecolor='black',cmap=plt.cm.Spectral_r,alpha=0.75)\n",
    "axs[0].set_title('PDS, color = incidence angle');\n",
    "\n",
    "gdf_pds_poly.set_index('pid').loc[geounion_gdf.pid]['INCIDENCE_ANGLE'].plot(marker='.',ax=axs[2])\n",
    "axs[2].set_title('PDS, incidence angle');\n",
    "\n",
    "\n",
    "geofovs_df.plot(ax=axs[1],column='mean_incdnc',edgecolor='black',cmap=plt.cm.Spectral_r,alpha=0.75)\n",
    "axs[1].set_title('NEW-Union, color = incidence angle');\n",
    "\n",
    "geofovs_df['mean_incdnc'].plot(marker='.',ax=axs[3])\n",
    "axs[3].set_title('NEW-Union, incidence angle');\n",
    "\n",
    "_ = [a.set_xlabel('Sequential Meas. Index') for a in axs[-2:]]\n",
    "_ = [(a.set_xlabel('Longitude'),a.set_ylabel('Latitude')) for a in axs[:2]]\n"
   ]
  },
  {
   "cell_type": "markdown",
   "id": "9406b0db-adaf-4c0a-a1f4-ec1e29a9cff8",
   "metadata": {},
   "source": [
    "## Save output to csv , geojson, shapefiles etc\n",
    "\n",
    "\n",
    "Set `output` to a path and then run "
   ]
  },
  {
   "cell_type": "code",
   "execution_count": null,
   "id": "fa672e80-841e-4b41-8bee-d91eb0c62a84",
   "metadata": {
    "tags": []
   },
   "outputs": [],
   "source": [
    "output = pathlib.Path('/tmp/')"
   ]
  },
  {
   "cell_type": "code",
   "execution_count": null,
   "id": "3bf08945-146e-4f91-80c8-015df82a5e08",
   "metadata": {
    "lines_to_next_cell": 2
   },
   "outputs": [],
   "source": [
    "gdf_pds_poly.to_csv( output / 'NEW-iFOV.csv.zip')\n",
    "\n",
    "geounion_gdf.to_wkt().rename(columns={'geometry':'fov'}).to_csv( output / 'NEW-FOV-union-convex.csv.zip')"
   ]
  },
  {
   "cell_type": "code",
   "execution_count": null,
   "id": "3d36f479-1462-4753-8b34-0ff0dc30f02c",
   "metadata": {
    "tags": []
   },
   "outputs": [],
   "source": [
    "#  if yu wish, change the driver to shapefile \n",
    "gdf_pds_poly.to_file(output / 'NEW-iFOV.geojson', driver=\"GeoJSON\")\n",
    "geounion_gdf.to_file(output / 'NEW-FOV-union-convex.geojson', driver=\"GeoJSON\")"
   ]
  }
 ],
 "metadata": {
  "jupytext": {
   "formats": "ipynb,py:percent"
  },
  "kernelspec": {
   "display_name": "Python 3 (ipykernel)",
   "language": "python",
   "name": "python3"
  },
  "language_info": {
   "codemirror_mode": {
    "name": "ipython",
    "version": 3
   },
   "file_extension": ".py",
   "mimetype": "text/x-python",
   "name": "python",
   "nbconvert_exporter": "python",
   "pygments_lexer": "ipython3",
   "version": "3.10.8"
  }
 },
 "nbformat": 4,
 "nbformat_minor": 5
}
